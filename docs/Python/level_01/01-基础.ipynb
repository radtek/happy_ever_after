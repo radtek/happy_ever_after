{
 "metadata": {
  "language_info": {
   "codemirror_mode": {
    "name": "ipython",
    "version": 3
   },
   "file_extension": ".py",
   "mimetype": "text/x-python",
   "name": "python",
   "nbconvert_exporter": "python",
   "pygments_lexer": "ipython3",
   "version": "3.9.2-final"
  },
  "orig_nbformat": 2,
  "kernelspec": {
   "name": "python392jvsc74a57bd0767d51c1340bd893661ea55ea3124f6de3c7a262a8b4abca0554b478b1e2ff90",
   "display_name": "Python 3.9.2 64-bit"
  },
  "metadata": {
   "interpreter": {
    "hash": "767d51c1340bd893661ea55ea3124f6de3c7a262a8b4abca0554b478b1e2ff90"
   }
  }
 },
 "nbformat": 4,
 "nbformat_minor": 2,
 "cells": [
  {
   "cell_type": "markdown",
   "source": [
    "## 1 Python基础"
   ],
   "metadata": {}
  },
  {
   "cell_type": "code",
   "execution_count": 3,
   "source": [
    "# 输出HelloWorld\n",
    "print(\"Hello World\")\n",
    "print(\"Hello Python\")"
   ],
   "outputs": [
    {
     "output_type": "stream",
     "name": "stdout",
     "text": [
      "Hello World\n",
      "Hello Python\n"
     ]
    }
   ],
   "metadata": {}
  },
  {
   "cell_type": "markdown",
   "source": [
    "### 1.1 注释\n",
    "\n",
    "- **#**: 单行注释\n",
    "- **\"\"\"**: 多行注释"
   ],
   "metadata": {}
  },
  {
   "cell_type": "markdown",
   "source": [
    "### 1.2 代码规范\n",
    "\n",
    "`https://zh-google-styleguide.readthedocs.io/en/latest/google-python-styleguide/python_style_rules/`"
   ],
   "metadata": {}
  },
  {
   "cell_type": "markdown",
   "source": [
    "### 1.3 算术运算\n",
    "\n",
    "| 运算符 | 释义 |\n",
    "| :-- | :-- |\n",
    "| + | 加 |\n",
    "| - | 减 |\n",
    "| * | 乘，或者字符串重复指定次数 |\n",
    "| / | 除 |\n",
    "| // | 地板除 |\n",
    "| % | 取余 |\n",
    "| ** | 幂 |\n",
    "\n",
    "- 以下表格的算数优先级由高到最低顺序排列\n",
    "\n",
    "| 运算符 | 描述 |\n",
    "| :-- | :-- |\n",
    "| ** | 幂 (最高优先级) |\n",
    "| * / % // | 乘、除、取余数、取整除 |\n",
    "| + - | 加法、减法 |"
   ],
   "metadata": {}
  },
  {
   "cell_type": "markdown",
   "source": [
    "### 1.4 变量\n",
    "\n",
    "创建变量，会包含以下信息：\n",
    "\n",
    "1. 变量的名称\n",
    "2. 变量保存的数据\n",
    "3. 变量存储数据的类型\n",
    "4. 变量的地址（标示）"
   ],
   "metadata": {}
  },
  {
   "cell_type": "code",
   "execution_count": 4,
   "source": [
    "qq_number = '1336097541'\n",
    "print(qq_number)"
   ],
   "outputs": [
    {
     "output_type": "stream",
     "name": "stdout",
     "text": [
      "1336097541\n"
     ]
    }
   ],
   "metadata": {}
  },
  {
   "cell_type": "code",
   "execution_count": 5,
   "source": [
    "price = 8.5\n",
    "weigh = 7.5\n",
    "money = price * weigh\n",
    "money = money - 5 # 优惠5元\n",
    "print(money)"
   ],
   "outputs": [
    {
     "output_type": "stream",
     "name": "stdout",
     "text": [
      "58.75\n"
     ]
    }
   ],
   "metadata": {}
  },
  {
   "cell_type": "markdown",
   "source": [
    "#### 变量类型\n",
    "\n",
    "- 数字型\n",
    "    * 整型(int)\n",
    "    * 浮点型(float)\n",
    "    * 布尔型(bool)\n",
    "    * 复数型(complex)\n",
    "- 非数字型\n",
    "    * 字符串(str)\n",
    "    * 列表(list)\n",
    "    * 元组(tuple)\n",
    "    * 字典(dict)\n",
    "\n",
    "> `type` 命令查看数据类型\n",
    "\n",
    "> 在 _Python 2.x_ 中， 整型分为 _int_ 和 _long_"
   ],
   "metadata": {}
  },
  {
   "cell_type": "markdown",
   "source": [
    "- **数字型变量** 之间可以直接计算\n",
    "- **字符串变量** 之间使用 `+` 拼接字符串\n",
    "- **字符串变量** 可以和 **整数** 使用 `*` 重复拼接相同的字符串\n",
    "- **数字型变量** 和 **字符串** 之间 **不能进行其他计算**"
   ],
   "metadata": {}
  },
  {
   "cell_type": "markdown",
   "source": [
    "#### 变量输入\n",
    "- 所谓 **输入**，就是 **用代码** **获取** 用户通过 **键盘** 输入的信息"
   ],
   "metadata": {}
  },
  {
   "cell_type": "code",
   "execution_count": 7,
   "source": [
    "# 用户输入的任何内容Python 都认为是一个字符串\n",
    "a = input(\"请输入用户名： \")\n",
    "print(a)\n",
    "type(a)"
   ],
   "outputs": [
    {
     "output_type": "stream",
     "name": "stdout",
     "text": [
      "WengerChan\n"
     ]
    },
    {
     "output_type": "execute_result",
     "data": {
      "text/plain": [
       "str"
      ]
     },
     "metadata": {},
     "execution_count": 7
    }
   ],
   "metadata": {}
  },
  {
   "cell_type": "markdown",
   "source": [
    "#### 类型转换\n",
    "\n",
    "| 函数 | 说明 |\n",
    "| :--- | :--- |\n",
    "| `int(x)` | 将 x 转换为一个整数 |\n",
    "| `float(x)` | 将 x 转换到一个浮点数 |\n",
    "| `str(x)` | 将 x 转换到一个字符串 |"
   ],
   "metadata": {}
  },
  {
   "cell_type": "markdown",
   "source": [
    "#### 变量的格式化输出\n",
    "\n",
    "* `%` 被称为 **格式化操作符**，专门用于处理字符串中的格式\n",
    "    * 包含 `%` 的字符串，被称为 **格式化字符串**\n",
    "    * `%` 和不同的 **字符** 连用，**不同类型的数据** 需要使用 **不同的格式化字符**\n",
    "\n",
    "| 格式化字符 | 含义 |\n",
    "| :--- | :--- |\n",
    "| %s | 字符串 |\n",
    "| %d | 有符号十进制整数，`%06d` 表示输出的整数显示位数，不足的地方使用 `0` 补全(默认情况下使用`空格`补全) |\n",
    "| %f | 浮点数，`%.2f` 表示小数点后只显示两位 |\n",
    "| %% | 输出 `%` |\n"
   ],
   "metadata": {}
  },
  {
   "cell_type": "code",
   "execution_count": 13,
   "source": [
    "# print(\"格式化字符串\" % 变量1)\n",
    "# print(\"格式化字符串\" % (变量1, 变量2...))\n",
    "\n",
    "stu_name = \"ZhanSan\"\n",
    "print(\"我的名字叫: %s\" % stu_name)\n",
    "\n",
    "stu_num = 20210414\n",
    "print(\"我的学号是: %06d\" % stu_num)\n",
    "\n",
    "price, weight, money = 9, 5, 9 * 5\n",
    "print(\"苹果单价: %.2f元／斤，购买了 %.2f 斤，需要支付 %.2f 元\" % (price, weight, money))\n",
    "\n",
    "scale = 0.25\n",
    "print(\"数据比例为: %.2f%%\" % (scale*100))\n"
   ],
   "outputs": [
    {
     "output_type": "stream",
     "name": "stdout",
     "text": [
      "我的名字叫: ZhanSan\n",
      "我的学号是: 20210414\n",
      "苹果单价: 9.00元／斤，购买了 5.00 斤，需要支付 45.00 元\n",
      "数据比例为: 25.00%\n"
     ]
    }
   ],
   "metadata": {}
  },
  {
   "cell_type": "markdown",
   "source": [
    "#### 变量的命名\n",
    "\n",
    "- 标识符: 标示符就是程序员定义的 **变量名**、**函数名**\n",
    "    * 标示符可以由 **字母**、**下划线** 和 **数字** 组成\n",
    "    * **不能以数字开头**\n",
    "    * **不能与关键字重名**\n",
    "\n",
    "- 关键字\n",
    "    * **关键字** 就是在 `Python` 内部已经使用的标识符\n",
    "    * **关键字** 具有特殊的功能和含义\n",
    "    * 开发者 **不允许定义和关键字相同的名字的标示符**"
   ],
   "metadata": {}
  },
  {
   "cell_type": "code",
   "execution_count": 14,
   "source": [
    "# 关键字\n",
    "import keyword\n",
    "print(keyword.kwlist)"
   ],
   "outputs": [
    {
     "output_type": "stream",
     "name": "stdout",
     "text": [
      "['False', 'None', 'True', '__peg_parser__', 'and', 'as', 'assert', 'async', 'await', 'break', 'class', 'continue', 'def', 'del', 'elif', 'else', 'except', 'finally', 'for', 'from', 'global', 'if', 'import', 'in', 'is', 'lambda', 'nonlocal', 'not', 'or', 'pass', 'raise', 'return', 'try', 'while', 'with', 'yield']\n"
     ]
    }
   ],
   "metadata": {}
  },
  {
   "cell_type": "markdown",
   "source": [
    "- 命名规则\n",
    "\n",
    "    1. 在定义变量时，为了保证代码格式，`=` 的左右应该各保留一个空格\n",
    "    2. 在 `Python` 中，如果 **变量名** 需要由 **2个** 或 **多个单词** 组成时，可以按照以下方式命名\n",
    "        1. 每个单词都使用小写字母\n",
    "        2. 单词与单词之间使用 **`_`下划线** 连接\n",
    "        * 例如：`first_name`、`last_name`、`qq_number`、`qq_password`\n",
    "\n",
    "驼峰命名法：\n",
    "\n",
    "* 当 **变量名** 是由二个或多个单词组成时，还可以利用驼峰命名法来命名\n",
    "* **小驼峰式命名法**\n",
    "    * 第一个单词以小写字母开始，后续单词的首字母大写\n",
    "    * 例如：`firstName`、`lastName`\n",
    "* **大驼峰式命名法**\n",
    "    * 每一个单词的首字母都采用大写字母\n",
    "    * 例如：`FirstName`、`LastName`、`CamelCase` "
   ],
   "metadata": {}
  },
  {
   "cell_type": "markdown",
   "source": [
    "### 1.5 判断语句(if)\n",
    "\n",
    "```python\n",
    "if expression:\n",
    "    statement...\n",
    "elif expression:\n",
    "    statement...\n",
    "else:\n",
    "    statement...\n",
    "```\n"
   ],
   "metadata": {}
  },
  {
   "cell_type": "markdown",
   "source": [
    "### 1.6 循环\n",
    "\n",
    "在程序开发中，一共有三种流程方式：\n",
    "\n",
    "- **顺序** —— **从上向下**，顺序执行代码\n",
    "- **分支** —— 根据条件判断，决定执行代码的 **分支**\n",
    "- **循环** —— 让 **特定代码 重复** 执行\n",
    "\n"
   ],
   "metadata": {}
  },
  {
   "cell_type": "markdown",
   "source": [
    "- while\n",
    "\n",
    "    ```python\n",
    "    初始条件设置 —— 通常是重复执行的 计数器\n",
    "    \n",
    "    while 条件(判断 计数器 是否达到 目标次数):\n",
    "        条件满足时，做的事情1\n",
    "        条件满足时，做的事情2\n",
    "        条件满足时，做的事情3\n",
    "        ...(省略)...\n",
    "        \n",
    "        处理条件(计数器 + 1)\n",
    "    ```\n",
    "\n",
    "- for: 循环遍历\n",
    "\n",
    "```python\n",
    "for i in 可迭代对象:\n",
    "    statement...\n",
    "```"
   ],
   "metadata": {}
  },
  {
   "cell_type": "markdown",
   "source": [
    "- continue: 结束本次循环\n",
    "- break: 结束循环"
   ],
   "metadata": {}
  },
  {
   "cell_type": "markdown",
   "source": [
    "### 1.7 函数\n",
    "\n",
    "1. `def` 是英文 `define` 的缩写\n",
    "2. **函数名称** 应该能够表达 **函数封装代码** 的功能，方便后续的调用\n",
    "3. **函数名称** 的命名应该 **符合** **标识符的命名规则**\n",
    "    * 可以由 **字母**、**下划线** 和 **数字** 组成\n",
    "    * **不能以数字开头**\n",
    "    * **不能与关键字重名**\n",
    "\n"
   ],
   "metadata": {}
  },
  {
   "cell_type": "code",
   "execution_count": 1,
   "source": [
    "def print_hello():\n",
    "    print(\"hello 1\")\n",
    "    print(\"hello 2\")\n",
    "    print(\"hello 3\")\n",
    "\n",
    "print_hello()"
   ],
   "outputs": [
    {
     "output_type": "stream",
     "name": "stdout",
     "text": [
      "hello 1\n",
      "hello 2\n",
      "hello 3\n"
     ]
    }
   ],
   "metadata": {}
  },
  {
   "cell_type": "code",
   "execution_count": 12,
   "source": [
    "def sum_num(num1, num2):\n",
    "    print(\"Num1: %d, Num2: %d, Sum: %d\" % (num1, num2, num1+num2))\n",
    "    return x\n",
    "    print(\"a\")\n",
    "\n",
    "sum_num(1, 2)\n",
    "sum_num(3, 4)"
   ],
   "outputs": [
    {
     "output_type": "stream",
     "name": "stdout",
     "text": [
      "Num1: 1, Num2: 2, Sum: 3\n",
      "Num1: 3, Num2: 4, Sum: 7\n"
     ]
    }
   ],
   "metadata": {}
  },
  {
   "cell_type": "markdown",
   "source": [
    "形参和实参\n",
    "\n",
    "* **形参**：**定义** 函数时，小括号中的参数，是用来接收参数用的，在函数内部 **作为变量使用**\n",
    "* **实参**：**调用** 函数时，小括号中的参数，是用来把数据传递到 **函数内部** 用的\n",
    "\n",
    "返回值\n",
    "\n",
    "* 在程序开发中，有时候，会希望 **一个函数执行结束后，告诉调用者一个结果**，以便调用者针对具体的结果做后续的处理\n",
    "* **返回值** 是函数 **完成工作**后，**最后** 给调用者的 **一个结果**\n",
    "* 在函数中使用 `return` 关键字可以返回结果\n",
    "* 调用函数一方，可以 **使用变量** 来 **接收** 函数的返回结果\n",
    "\n",
    "> 注意：`return` 表示返回，后续的代码都不会被执行\n",
    "\n",
    "函数嵌套\n",
    "\n",
    "> 函数中调用其他函数"
   ],
   "metadata": {}
  },
  {
   "cell_type": "code",
   "execution_count": 1,
   "source": [
    "def test1():\n",
    "    print(\"test1\")\n",
    "\n",
    "def test2():\n",
    "    print(\"test2\")\n",
    "    test1()\n",
    "\n",
    "test2()"
   ],
   "outputs": [
    {
     "output_type": "stream",
     "name": "stdout",
     "text": [
      "test2\n",
      "test1\n"
     ]
    }
   ],
   "metadata": {}
  },
  {
   "cell_type": "markdown",
   "source": [
    "使用模块中的函数\n",
    "\n",
    "- 每一个以扩展名.py结尾的python源代码文件都是一个 **模块**\n",
    "- 模块中定义的**全局变量**， **函数**都是可以调用的"
   ],
   "metadata": {}
  },
  {
   "cell_type": "markdown",
   "source": [
    "### 1.8 运算符\n",
    "\n",
    "- 算术运算符\n",
    "- 比较(关系)运算符\n",
    "- 逻辑运算符\n",
    "- 赋值运算符\n",
    "- 运算符优先级\n",
    "\n",
    "> 数学符号表链接：[https://zh.wikipedia.org/wiki/数学符号表](https://zh.wikipedia.org/wiki/数学符号表)"
   ],
   "metadata": {}
  },
  {
   "cell_type": "markdown",
   "source": [
    "**01. 算术运算符**\n",
    "\n",
    "算术运算符是完成基本的算术运算使用的符号，用来处理四则运算\n",
    "\n",
    "| 运算符| 描述 | 实例 |\n",
    "| :---: | :---: | --- |\n",
    "| + | 加 | 10 + 20 = 30 |\n",
    "| - | 减 | 10 - 20 = -10 |\n",
    "| * | 乘 | 10 * 20 = 200 |\n",
    "| / | 除 | 10 / 20 = 0.5 |\n",
    "| // | 取整除 | 返回除法的整数部分（商） 9 // 2 输出结果 4 |\n",
    "| % | 取余数 | 返回除法的余数 9 % 2 = 1 |\n",
    "| ** | 幂 | 又称次方、乘方，2 ** 3 = 8 |\n",
    "\n",
    "> 在 Python 中 `*` 运算符还可以用于字符串，计算结果就是字符串重复指定次数的结果"
   ],
   "metadata": {}
  },
  {
   "cell_type": "markdown",
   "source": [
    "**02. 比较（关系）运算符**\n",
    "\n",
    "| 运算符 | 描述 |\n",
    "| --- | :--- |\n",
    "| == | 检查两个操作数的值是否 **相等**，如果是，则条件成立，返回 True |\n",
    "| != | 检查两个操作数的值是否 **不相等**，如果是，则条件成立，返回 True |\n",
    "| > | 检查左操作数的值是否 **大于** 右操作数的值，如果是，则条件成立，返回 True |\n",
    "| < | 检查左操作数的值是否 **小于** 右操作数的值，如果是，则条件成立，返回 True |\n",
    "| >= | 检查左操作数的值是否 **大于或等于** 右操作数的值，如果是，则条件成立，返回 True |\n",
    "| <= | 检查左操作数的值是否 **小于或等于** 右操作数的值，如果是，则条件成立，返回 True |\n",
    "\n",
    "> Python 2.x 中判断 **不等于** 还可以使用 `<>` 运算符\n",
    "> \n",
    "> `!=` 在 Python 2.x 中同样可以用来判断 **不等于**"
   ],
   "metadata": {}
  },
  {
   "cell_type": "markdown",
   "source": [
    "**03. 逻辑运算符**\n",
    "\n",
    "| 运算符 | 逻辑表达式 | 描述 |\n",
    "| --- | --- | :--- |\n",
    "| and | x and y | 只有 x 和 y 的值都为 True，才会返回 True<br />否则只要 x 或者 y 有一个值为 False，就返回 False |\n",
    "| or | x or y | 只要 x 或者 y 有一个值为 True，就返回 True<br />只有 x 和 y 的值都为 False，才会返回 False |\n",
    "| not | not x | 如果 x 为 True，返回 False<br />如果 x 为 False，返回 True |\n",
    "\n"
   ],
   "metadata": {}
  },
  {
   "cell_type": "markdown",
   "source": [
    "**04 赋值运算符**\n",
    "\n",
    "* 在 Python 中，使用 `=` 可以给变量赋值\n",
    "* 在算术运算时，为了简化代码的编写，`Python` 还提供了一系列的 与 **算术运算符** 对应的 **赋值运算符**\n",
    "* 注意：**赋值运算符中间不能使用空格**\n",
    "\n",
    "| 运算符 | 描述 | 实例 |\n",
    "| --- | :--- | :--- |\n",
    "| = | 简单的赋值运算符 | c = a + b 将 a + b 的运算结果赋值为 c |\n",
    "| += | 加法赋值运算符 | c += a 等效于 c = c + a |\n",
    "| -= | 减法赋值运算符 | c -= a 等效于 c = c - a |\n",
    "| *= | 乘法赋值运算符\t | c *= a 等效于 c = c * a |\n",
    "| /= | 除法赋值运算符 | c /= a 等效于 c = c / a |\n",
    "| //= | 取整除赋值运算符 | c //= a 等效于 c = c // a |\n",
    "| %= | 取 **模** (余数)赋值运算符 | c %= a 等效于 c = c % a |\n",
    "| **= | 幂赋值运算符 | c **= a 等效于 c = c ** a |"
   ],
   "metadata": {}
  },
  {
   "cell_type": "markdown",
   "source": [
    "**05 运算符优先级**\n",
    "\n",
    "> 以下表格的算数优先级由高到最低顺序排列\n",
    "\n",
    "| 运算符 | 描述 |\n",
    "| :--- | :-- |\n",
    "| ** | 幂 (最高优先级) |\n",
    "| * / % // | 乘、除、取余数、取整除 |\n",
    "| + - | 加法、减法 |\n",
    "| <= < > >= | 比较运算符 |\n",
    "| == != | 等于运算符 |\n",
    "| = %= /= //= -= += *= **= | 赋值运算符 |\n",
    "| not or and | 逻辑运算符 |\n"
   ],
   "metadata": {}
  },
  {
   "cell_type": "markdown",
   "source": [
    "> 随机数"
   ],
   "metadata": {}
  },
  {
   "cell_type": "code",
   "execution_count": 1,
   "source": [
    "import random\n",
    "random.randint(1, 10) # 生成随机整数"
   ],
   "outputs": [
    {
     "output_type": "execute_result",
     "data": {
      "text/plain": [
       "4"
      ]
     },
     "metadata": {},
     "execution_count": 1
    }
   ],
   "metadata": {}
  },
  {
   "cell_type": "markdown",
   "source": [
    "> 转义字符\n",
    "\n",
    "| 转义字符 | 描述 |\n",
    "| --- | --- |\n",
    "| \\\\\\\\ | 反斜杠符号 |\n",
    "| \\\\' | 单引号 |\n",
    "| \\\\\" | 双引号 |\n",
    "| \\n | 换行 |\n",
    "| \\t | 横向制表符 |\n",
    "| \\r | 回车 |\n"
   ],
   "metadata": {}
  },
  {
   "cell_type": "markdown",
   "source": [
    "eval函数：\n",
    "\n",
    "将字符串当成有效的表达式来求值，并返回计算结果"
   ],
   "metadata": {}
  },
  {
   "cell_type": "code",
   "execution_count": 1,
   "source": [
    "eval(\"1 + 1\")"
   ],
   "outputs": [
    {
     "output_type": "execute_result",
     "data": {
      "text/plain": [
       "2"
      ]
     },
     "metadata": {},
     "execution_count": 1
    }
   ],
   "metadata": {}
  },
  {
   "cell_type": "code",
   "execution_count": 2,
   "source": [
    "eval(\"'*' * 10\")"
   ],
   "outputs": [
    {
     "output_type": "execute_result",
     "data": {
      "text/plain": [
       "'**********'"
      ]
     },
     "metadata": {},
     "execution_count": 2
    }
   ],
   "metadata": {}
  },
  {
   "cell_type": "code",
   "execution_count": 5,
   "source": [
    "print(type(eval(\"[1, 2, 3, 4]\")))\n",
    "print(eval(\"[1, 2, 3, 4]\"))"
   ],
   "outputs": [
    {
     "output_type": "stream",
     "name": "stdout",
     "text": [
      "<class 'list'>\n",
      "[1, 2, 3, 4]\n"
     ]
    }
   ],
   "metadata": {}
  },
  {
   "cell_type": "code",
   "execution_count": 6,
   "source": [
    "type(eval(\"{'name': 'xiaoming'}\"))"
   ],
   "outputs": [
    {
     "output_type": "execute_result",
     "data": {
      "text/plain": [
       "dict"
      ]
     },
     "metadata": {},
     "execution_count": 6
    }
   ],
   "metadata": {}
  },
  {
   "cell_type": "code",
   "execution_count": 9,
   "source": [
    "input_str = input(\"请输入算术题：\") # 10 * 20 + 3\n",
    "print(eval(input_str))"
   ],
   "outputs": [
    {
     "output_type": "stream",
     "name": "stdout",
     "text": [
      "203\n"
     ]
    }
   ],
   "metadata": {}
  },
  {
   "cell_type": "code",
   "execution_count": 8,
   "source": [
    "__import__(\"os\").system(\"ls\") # 如果把ls命令换成rm等危险命令，结果将十分不可控。因此，开发时千万不要使用eval直接转换input结果。"
   ],
   "outputs": [
    {
     "output_type": "stream",
     "name": "stdout",
     "text": [
      "01-基础.ipynb\n",
      "02-高级变量类型.ipynb\n",
      "03-函数扩展.ipynb\n",
      "04-面向对象.ipynb\n",
      "05-模块.md\n",
      "06-异常.ipynb\n",
      "07-处理文件.ipynb\n",
      "Jupyter快捷键.md\n",
      "pictures\n",
      "字符串常用操作.md\n"
     ]
    },
    {
     "output_type": "execute_result",
     "data": {
      "text/plain": [
       "0"
      ]
     },
     "metadata": {},
     "execution_count": 8
    }
   ],
   "metadata": {}
  }
 ]
}