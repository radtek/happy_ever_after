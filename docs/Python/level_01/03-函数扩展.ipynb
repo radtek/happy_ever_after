{
 "metadata": {
  "language_info": {
   "codemirror_mode": {
    "name": "ipython",
    "version": 3
   },
   "file_extension": ".py",
   "mimetype": "text/x-python",
   "name": "python",
   "nbconvert_exporter": "python",
   "pygments_lexer": "ipython3",
   "version": "3.8.2"
  },
  "orig_nbformat": 4,
  "kernelspec": {
   "name": "python3",
   "display_name": "Python 3.8.2 64-bit"
  },
  "interpreter": {
   "hash": "20bf69066c0dd38d51965b69d5e1b6e387082e3198ba56e97997ac55f4e50ad0"
  }
 },
 "nbformat": 4,
 "nbformat_minor": 2,
 "cells": [
  {
   "cell_type": "markdown",
   "source": [
    "* 函数参数和返回值的作用\n",
    "* 函数的返回值\n",
    "* 函数的返回值 进阶\n",
    "* 递归函数"
   ],
   "metadata": {}
  },
  {
   "cell_type": "markdown",
   "source": [
    "**参数**\n",
    "\n",
    "* 如果函数 **内部处理的数据不确定**， 就可以将外界的数据以参数的形式传递到函数内部\n",
    "* 如果希望一个函数 **执行完成以后，向外界汇报执行结果**， 就可以增加函数的返回值"
   ],
   "metadata": {}
  },
  {
   "cell_type": "markdown",
   "source": [
    "**返回值**\n",
    "\n",
    "> 一个函数执行后能否返回多个值?\n",
    "\n",
    "可以，使用元组返回，将所有有返回的值组成元组。\n",
    "\n",
    "\n",
    "```python\n",
    "return (var1, var2)\n",
    "return var1, var2   # 括号可以省略\n",
    "```\n"
   ],
   "metadata": {}
  },
  {
   "cell_type": "code",
   "execution_count": null,
   "source": [
    "# 接受函数返回值时，也有两种方式：\n",
    "def return_test():\n",
    "    aa = 10\n",
    "    bb = 11\n",
    "    return aa, bb\n",
    "var1 = return_test()            # 使用单独的变量接收，此时var1类型为元组\n",
    "var2_1, var2_2 = return_test()  # 使用两个变量接收，此时执行了元组解包的过程"
   ],
   "outputs": [],
   "metadata": {}
  },
  {
   "cell_type": "markdown",
   "source": [
    "1. 在函数内部中， 使用赋值语句， 会不会影响调用函数时传递的实参变量？   不会\n",
    "2. 无论传递的参数是可变还是不可变的，只要针对参数使用**赋值语句**， 只会 **在函数内部修改局部变量的引用， 不会影响到外部变量的引用** 。\n",
    "3. 函数内部调用可变类型变量的 **方法** 修改变量，**同样会影响到函数外部的变量**。"
   ],
   "metadata": {}
  },
  {
   "cell_type": "markdown",
   "source": [
    "4. 在python中，列表变量调用 `+=` 本质上是在执行列表变量的 `extend` 方法，因此不会修改变量的引用。而数字型数据执行 `+=` 则是先 **相加再赋值**"
   ],
   "metadata": {}
  },
  {
   "cell_type": "code",
   "execution_count": null,
   "source": [
    "list1 = [1, 2, 3]\n",
    "print(list1)\n",
    "print(id(list1))\n",
    "\n",
    "list1 += [4]\n",
    "print(list1)\n",
    "print(id(list1))\n",
    "\n",
    "list1.extend([5])\n",
    "print(list1)\n",
    "print(id(list1))\n"
   ],
   "outputs": [],
   "metadata": {}
  },
  {
   "cell_type": "markdown",
   "source": [
    "**函数的缺省参数**\n",
    "\n",
    "* `print` 函数缺省参数： `end='\\n'`\n",
    "* 列表的 `sort` 方法缺省参数： `reverse=False`"
   ],
   "metadata": {}
  },
  {
   "cell_type": "markdown",
   "source": [
    "**多值参数**\n",
    "\n",
    "即传入参数的个数是不确定的，实现方式有两种：\n",
    "\n",
    "* 形参名前增加 `*` ，可以将多个值接收为 **元组**，一般地，`*args`\n",
    "* 形参名前增加 `**` ，可以将多个值接收为 **字典**，一般地，`**kwargs`"
   ],
   "metadata": {}
  },
  {
   "cell_type": "code",
   "execution_count": 1,
   "source": [
    "# e.g.\n",
    "\n",
    "def demo(num, *args, **kwargs):\n",
    "    print(num)\n",
    "    print(args)\n",
    "    print(kwargs)\n",
    "\n",
    "demo(1)\n",
    "demo(1, 2, 3)\n",
    "demo(1, 2, 3, num1=1, num2=2)  # 字典接收参数时，key应该是字符串，且不需要使用引号包装"
   ],
   "outputs": [
    {
     "output_type": "stream",
     "name": "stdout",
     "text": [
      "1\n",
      "()\n",
      "{}\n",
      "1\n",
      "(2, 3)\n",
      "{}\n",
      "1\n",
      "(2, 3)\n",
      "{'num1': 1, 'num2': 2}\n"
     ]
    }
   ],
   "metadata": {}
  },
  {
   "cell_type": "markdown",
   "source": [
    "**元组和字典的拆包/解包**\n",
    "\n",
    "* 将元组元素全部拿出\n",
    "    * `a, b = b, a` 此赋值表达式的右侧，实际上是元组解包的过程\n",
    "* 将字段全部拆✖成 `key = value` 格式\n",
    "* 拆包可以配合函数多值参数使用"
   ],
   "metadata": {}
  },
  {
   "cell_type": "markdown",
   "source": [
    "**递归**\n",
    "\n",
    "* 函数自身调用自身\n",
    "* 特点：\n",
    "    * “出口”： 递归函数必须定义出口，即终止递归的条件（**写递归函数优先考虑的事情**）\n",
    "    * 递归函数需要传参：函数每次调用自身时，执行的内容不一致\n",
    "* 递归函数有递归层数限制，可通过以下代码查看当前系统设置：\n",
    "\n",
    "```python\n",
    "import sys\n",
    "print(sys.getrecursionlimit())\n",
    "```"
   ],
   "metadata": {}
  },
  {
   "cell_type": "code",
   "execution_count": 1,
   "source": [
    "def sum_numbers(num):\n",
    "    if num == 1:\n",
    "        return 1\n",
    "    else:\n",
    "        return num + sum_numbers(num - 1) # 递归函数的条件：假设sum_number函数能够完成 1 ～ num-1之间所有数的累加。\n",
    "\n",
    "sum_numbers(100)"
   ],
   "outputs": [
    {
     "output_type": "execute_result",
     "data": {
      "text/plain": [
       "5050"
      ]
     },
     "metadata": {},
     "execution_count": 1
    }
   ],
   "metadata": {}
  },
  {
   "cell_type": "markdown",
   "source": [
    "递归是一个 **编程技巧**，在处理 **不确定的循环条件时比较有用**。如 **数累加**，**遍历整个文件目录的结构** 等"
   ],
   "metadata": {}
  }
 ]
}