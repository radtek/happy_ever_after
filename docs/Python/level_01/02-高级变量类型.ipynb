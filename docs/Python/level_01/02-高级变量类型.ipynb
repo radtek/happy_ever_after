{
 "metadata": {
  "language_info": {
   "codemirror_mode": {
    "name": "ipython",
    "version": 3
   },
   "file_extension": ".py",
   "mimetype": "text/x-python",
   "name": "python",
   "nbconvert_exporter": "python",
   "pygments_lexer": "ipython3",
   "version": "3.8.2"
  },
  "orig_nbformat": 2,
  "kernelspec": {
   "name": "python3",
   "display_name": "Python 3.8.2 64-bit"
  },
  "metadata": {
   "interpreter": {
    "hash": "767d51c1340bd893661ea55ea3124f6de3c7a262a8b4abca0554b478b1e2ff90"
   }
  },
  "interpreter": {
   "hash": "5edc29c2ed010d6458d71a83433b383a96a8cbd3efe8531bc90c4b8a5b8bcec9"
  }
 },
 "nbformat": 4,
 "nbformat_minor": 2,
 "cells": [
  {
   "cell_type": "markdown",
   "source": [
    "* 列表\n",
    "* 元组\n",
    "* 字典\n",
    "* 字符串\n",
    "* 公共方法\n",
    "* 变量进阶\n",
    "\n",
    "在 `Python` 中，所有 **非数字型变量** 都支持以下特点：\n",
    "\n",
    "1. 都是一个 **序列** `sequence`，也可以理解为 **容器**\n",
    "2. **取值** `[]`\n",
    "3. **遍历** `for in`\n",
    "4. **计算长度**、**最大/最小值**、**比较**、**删除**\n",
    "5. **链接** `+` 和 **重复** `*`\n",
    "6. **切片**"
   ],
   "metadata": {}
  },
  {
   "cell_type": "markdown",
   "source": [
    "## 1 列表\n",
    "\n",
    "- 定义\n",
    "    ```\n",
    "    list1 = [列表元素]\n",
    "    a = list(可迭代对象))\n",
    "    ```\n",
    "- 常用操作\n",
    "\n",
    "| 序号 | 分类 | 关键字 / 函数 / 方法 | 说明 |\n",
    "| --- | :--- | :--- | :--- |\n",
    "| 1 | 增加 | 列表.insert(索引, 数据) | 在指定位置插入数据 |\n",
    "|  |  | 列表.append(数据) | 在末尾追加数据\n",
    "|  |  | 列表.extend(列表2) | 将列表2 的数据追加到列表 | \n",
    "| 2 | 修改 | 列表\\[索引\\] = 数据 | 修改指定索引的数据 |\n",
    "| 3 | 删除 | del 列表\\[索引\\] | 删除指定索引的数据(本质上是将变量从内存中删除) |\n",
    "|  |  | 列表.remove(数据) | 删除第一个出现的指定数据 |\n",
    "|  |  | 列表.pop() | 删除末尾数据，同时返回删除的数据 |\n",
    "|  |  | 列表.pop(索引) | 删除指定索引数据，同时返回删除的数据 |\n",
    "|  |  | 列表.clear() | 清空列表 |\n",
    "| 4 | 统计 | len(列表名) | 列表长度 |\n",
    "|  |  | 列表.count(数据) | 数据在列表中出现的次数 |\n",
    "| 5 | 排序 | 列表.sort() | 升序排序(列表必须是相同类型) |\n",
    "|  |  | 列表.sort(reverse=True) | 降序排序 |\n",
    "|  |  | 列表.reverse() | 逆序、反转 |\n",
    "| 6 | 查找 | 列表.index(数据)) | 数据在列表中**第一次**出现的位置 |\n",
    "|  |  | 列表.index(数据, start=0, stop=10)) | 数据在列表第0-10之间中**第一次**出现的位置 |"
   ],
   "metadata": {}
  },
  {
   "cell_type": "code",
   "execution_count": null,
   "source": [
    "list1 = [1, 2, 3]\n",
    "a = list1.remove(1) # 删除1, 无返回\n",
    "b = list1.pop()     # 删除3, 并将3返回赋值给变量b\n",
    "print(a, b)"
   ],
   "outputs": [],
   "metadata": {}
  },
  {
   "cell_type": "code",
   "execution_count": null,
   "source": [
    "list2 = [11, 21, 19, 9]\n",
    "list2.sort()\n",
    "print(list2)\n",
    "\n",
    "list3 = [\"11\", \"21\", \"19\", \"9\"]\n",
    "list3.sort()\n",
    "print(list3)"
   ],
   "outputs": [],
   "metadata": {}
  },
  {
   "cell_type": "markdown",
   "source": [
    "## 2 元组\n",
    "\n",
    "* `Tuple`（元组）与列表类似，不同之处在于元组的 **元素不能修改**\n",
    "    * **元组** 表示多个元素组成的序列\n",
    "    * **元组** 在 `Python` 开发中，有特定的应用场景\n",
    "* 用于存储 **一串 信息**，**数据** 之间使用 `,` 分隔\n",
    "* 元组用 **`()`** 和 **,** 定义\n",
    "* 元组的 **索引** 从 `0` 开始\n",
    "    * **索引** 就是数据在 **元组** 中的位置编号"
   ],
   "metadata": {}
  },
  {
   "cell_type": "markdown",
   "source": [
    "应用场景: \n",
    "\n",
    "* 尽管可以使用 `for in` 遍历 **元组**\n",
    "* 但是在开发中，更多的应用场景是：\n",
    "    * **函数的 参数 和 返回值**，一个函数可以接收 **任意多个参数**，或者 **一次返回多个数据**\n",
    "    * **格式字符串**，格式化字符串后面的 `()` 本质上就是一个元组\n",
    "    * **让列表不可以被修改**，以保护数据安全"
   ],
   "metadata": {}
  },
  {
   "cell_type": "markdown",
   "source": [
    "函数，方法等\n",
    "\n",
    "- len\n",
    "- count\n",
    "- index\n",
    "- 索引"
   ],
   "metadata": {}
  },
  {
   "cell_type": "markdown",
   "source": [
    "## 3 字典\n",
    "\n",
    "- 无序的对象集合\n",
    "* 通常用于存储 **描述一个 `物体` 的相关信息**\n",
    "- 字典使用 **键值对** 存储数据，键值对之间使用 `,` 分隔\n",
    "    * **键** `key` 是索引\n",
    "    * **值** `value` 是数据\n",
    "    * **键** 和 **值** 之间使用 `:` 分隔\n",
    "    * **键必须是唯一的**\n",
    "    * **值** 可以取任何数据类型，但 **键** 只能使用 **字符串**、**数字**或 **元组**"
   ],
   "metadata": {}
  },
  {
   "cell_type": "code",
   "execution_count": null,
   "source": [
    "xiaoming = {\"name\": \"小明\",\n",
    "            \"age\": 18,\n",
    "            \"gender\": True,\n",
    "            \"height\": 1.75}\n",
    "print(xiaoming)\n",
    "print(list(xiaoming.keys()))\n",
    "print(list(xiaoming.values()))\n",
    "print(list(xiaoming.items()))"
   ],
   "outputs": [],
   "metadata": {}
  },
  {
   "cell_type": "code",
   "execution_count": null,
   "source": [
    "xiaoming_dict = {\"name\": \"xiaoming\", \n",
    "                    \"age\": 18\n",
    "                }\n",
    "print(xiaoming_dict)\n",
    "# 1. 取值\n",
    "print(\"1: \", end=\"\")\n",
    "print(xiaoming_dict[\"name\"])\n",
    "# 2. 增加/修改\n",
    "print(\"2: \", end=\"\")\n",
    "xiaoming_dict[\"weight\"] = 76.5\n",
    "xiaoming_dict[\"age\"] = 19\n",
    "print(xiaoming_dict)\n",
    "# 3. 删除\n",
    "# pop删除指定，同时返回删除的value\n",
    "print(\"3: \", end=\"\")\n",
    "a = xiaoming_dict.pop(\"age\")\n",
    "print(xiaoming_dict)\n",
    "print(a)\n",
    "# popitem删除随机item，同时返回删除的item\n",
    "b = xiaoming_dict.popitem()\n",
    "print(b)\n",
    "# clear清空\n",
    "c = xiaoming_dict.clear()\n",
    "print(c)"
   ],
   "outputs": [],
   "metadata": {}
  },
  {
   "cell_type": "markdown",
   "source": [
    "## 4 字符串"
   ],
   "metadata": {}
  },
  {
   "cell_type": "markdown",
   "source": [
    "**常用操作-方法**\n",
    "\n",
    "1. 判断类型 - 10\n",
    "\n",
    "| 方法 | 说明 |\n",
    "| :--- | :--- |\n",
    "| string.isspace() | 如果 string 中只包含空格(也包括`\\t` `\\r` `\\n`)，则返回 True | \n",
    "| string.isalnum() | 如果 string 至少有一个字符并且所有字符都是字母或数字则返回 True |\n",
    "| string.isalpha() | 如果 string 至少有一个字符并且所有字符都是字母则返回 True |\n",
    "| string.isdecimal() | 如果 string 只包含数字则返回 True，`全角数字` | \n",
    "| string.isdigit() | 如果 string 只包含数字则返回 True，`全角数字`、`⑴`、`\\u00b2` |\n",
    "| string.isnumeric() | 如果 string 只包含数字则返回 True，`全角数字`、`⑴`、`\\u00b2`、`汉字数字` |  \n",
    "| string.istitle() | 如果 string 是标题化的(每个单词的首字母大写)则返回 True | \n",
    "| string.islower() | 如果 string 中包含至少一个区分大小写的字符，并且所有这些(区分大小写的)字符都是小写，则返回 True | \n",
    "| string.isupper() | 如果 string 中包含至少一个区分大小写的字符，并且所有这些(区分大小写的)字符都是大写，则返回 True | \n",
    "| string.isidentifier() | 如果 string 是符合python标准的标识符则返回True |\n",
    "\n",
    "\n",
    "2. 查找和替换 - 7\n",
    "\n",
    "| 方法 | 说明 |\n",
    "| :--- | :--- |\n",
    "| string.startswith(str) | 检查字符串是否是以 str 开头，是则返回 True |\n",
    "| string.endswith(str) | 检查字符串是否是以 str 结束，是则返回 True |\n",
    "| string.find(str, start=0, end=len(string)) | 检测 str 是否包含在 string 中，如果 start 和 end 指定范围，则检查是否包含在指定范围内，如果是返回开始的索引值，否则返回 `-1` |\n",
    "| string.rfind(str, start=0, end=len(string)) | 类似于 find()，不过是从右边开始查找 | \n",
    "| string.index(str, start=0, end=len(string)) | 跟 find() 方法类似，不过如果 str 不在 string 会报错 |\n",
    "| string.rindex(str, start=0, end=len(string)) | 类似于 index()，不过是从右边开始 |\n",
    "| string.replace(old_str, new_str, num=string.count(old)) | 把 string 中的 old_str 替换成 new_str，如果 num 指定，则替换不超过 num 次(不会修改原字符串) |\n",
    "\n",
    "3. 大小写转换 - 5\n",
    "\n",
    "| 方法 | 说明 |\n",
    "| :--- | :--- |\n",
    "| string.capitalize() | 把字符串的第一个字符大写 |\n",
    "| string.title() | 把字符串的每个单词首字母大写 |\n",
    "| string.lower() | 转换 string 中所有大写字符为小写 |\n",
    "| string.upper() | 转换 string 中的小写字母为大写 |\n",
    "| string.swapcase() | 翻转 string 中的大小写 |\n",
    "| string.translate(table) | 根据table对应信息替换 ｜\n",
    "\n",
    "\n",
    "4. 文本对齐 - 3\n",
    "\n",
    "| 方法 | 说明 |\n",
    "| :--- | :--- |\n",
    "| string.ljust(width) | 返回一个原字符串左对齐，并使用空格填充至长度 width 的新字符串 |\n",
    "| string.rjust(width) | 返回一个原字符串右对齐，并使用空格填充至长度 width 的新字符串 |\n",
    "| string.center(width) | 返回一个原字符串居中，并使用空格填充至长度 width 的新字符串 |\n",
    "\n",
    "5. 去除空白字符 - 3\n",
    "\n",
    "| 方法 | 说明 |\n",
    "| :--- | :--- |\n",
    "| string.lstrip(str) | 截掉 string 左边（开始）的空白字符(可以通过str指定) |\n",
    "| string.rstrip(str) | 截掉 string 右边（末尾）的空白字符(可以通过str指定) |\n",
    "| string.strip(str) | 截掉 string 左右两边的空白字符(可以通过str指定) |\n",
    "\n",
    "6. 拆分和连接 - 5\n",
    "\n",
    "| 方法 | 说明 |\n",
    "| :--- | :--- |\n",
    "| string.partition(str) | 把字符串 string 分成一个 3 元素的元组 (str前面, str, str后面) |\n",
    "| string.rpartition(str) | 类似于 partition() 方法，不过是从右边开始查找 |\n",
    "| string.split(str=\"\", num) | 以 str 为分隔符拆分 string，如果 num 有指定值，则仅分隔 num + 1 个子字符串，str 默认包含 '\\r', '\\t', '\\n' 和空格 |\n",
    "| string.splitlines()) | 按照行('\\r', '\\n', '\\r\\n')分隔，返回一个包含各行作为元素的列表(keepends=False, 是否保留分割符) |\n",
    "| string.join(seq) | 以 string 作为分隔符，将 seq 中所有的元素（的字符串表示）合并为一个新的字符串 |"
   ],
   "metadata": {}
  },
  {
   "cell_type": "code",
   "execution_count": null,
   "source": [
    "print(\"a\\nb\\n\".splitlines(keepends=True))\n",
    "print(\"a\\nb\\n\".splitlines())"
   ],
   "outputs": [],
   "metadata": {}
  },
  {
   "cell_type": "code",
   "execution_count": 3,
   "source": [
    "table1 = {97: 945, 98: 946, 116: 964}\n",
    "s = 'crazyit.org is a good site'\n",
    "print(s)\n",
    "print(s.translate(table1))\n",
    "\n",
    "table2 = str.maketrans(\"abc\", \"123\")\n",
    "print(s.translate(table2))"
   ],
   "outputs": [
    {
     "output_type": "stream",
     "name": "stdout",
     "text": [
      "crazyit.org is a good site\n",
      "crαzyiτ.org is α good siτe\n",
      "3r1zyit.org is 1 good site\n"
     ]
    }
   ],
   "metadata": {}
  },
  {
   "cell_type": "markdown",
   "source": [
    "**常用操作-切片**\n",
    "\n",
    "```\n",
    "字符串[开始索引:结束索引:步长]\n",
    "```\n",
    "\n",
    "![字符串索引示意图.png](./pictures/字符串索引示意图.png)\n",
    "\n",
    "1. 指定的区间属于 **左闭右开** 型 `[开始索引,  结束索引)` => `开始索引 >= 范围 < 结束索引`\n",
    "    * 从 `起始` 位开始，到 **`结束`位的前一位** 结束（**不包含结束位本身**)\n",
    "2. 从头开始，**开始索引** **数字可以省略，冒号不能省略**\n",
    "3. 到末尾结束，**结束索引** **数字可以省略，冒号不能省略**\n",
    "4. 步长默认为 `1`，如果连续切片，**数字和冒号都可以省略**"
   ],
   "metadata": {}
  },
  {
   "cell_type": "markdown",
   "source": [
    "## 5 集合\n",
    "\n",
    "* set 集合是无序可变元素不能重复。\n",
    "* 实际上集合底层是字典实现，集合的所有元素都是字典中的**键对象**，因此是不能重复的且唯一"
   ],
   "metadata": {}
  },
  {
   "cell_type": "code",
   "execution_count": null,
   "source": [
    "str1 = \"012345\"\n",
    "print(str1[:])\n",
    "print(str1[0:])\n",
    "print(str1[0:-1])\n",
    "print(str1[-2:-1])  # 开始索引应该在结束索引之前，如[-2:-1]，而[-1：-2]输出则是空白\n",
    "print(str1[-1:-3])\n",
    "print(str1[::-1])   # 逆序\n",
    "print(str1[-1::-1])"
   ],
   "outputs": [],
   "metadata": {}
  },
  {
   "cell_type": "markdown",
   "source": [
    "## 6 公共方法\n",
    "\n",
    "### 6.1 Python 内置函数\n",
    "\n",
    "\n",
    "Python 包含了以下内置函数：\n",
    "\n",
    "| 函数 | 描述 | 备注 |\n",
    "| :--- | :--- | :--- |\n",
    "| len(item) | 计算容器中元素个数 | |\n",
    "| del(item) | 删除变量 | del 有两种方式 |\n",
    "| max(item) | 返回容器中元素最大值 | 如果是字典，只针对 key 比较; 需要同类型 |\n",
    "| min(item) | 返回容器中元素最小值 | 如果是字典，只针对 key 比较; 需要同类型 |\n",
    "| cmp(item1, item2) | 比较两个值，-1 小于/0 相等/1 大于 | Python 3.x 取消了 cmp 函数 |"
   ],
   "metadata": {}
  },
  {
   "cell_type": "code",
   "execution_count": null,
   "source": [
    "a = [1, 2, 3]\n",
    "del a[1]   # 方式一\n",
    "print(a)\n",
    "\n",
    "del(a[1])  # 方式二\n",
    "print(a)"
   ],
   "outputs": [],
   "metadata": {}
  },
  {
   "cell_type": "code",
   "execution_count": null,
   "source": [
    "str1 = [1, 2, 3, \"a\"]\n",
    "print(max(str1))"
   ],
   "outputs": [],
   "metadata": {}
  },
  {
   "cell_type": "markdown",
   "source": [
    "#### 6.2 切片\n",
    "\n",
    "| 描述 | Python 表达式 | 结果 | 支持的数据类型 |\n",
    "| :--- | :--- | :--- | :--- | :--- |\n",
    "| 切片 | \"0123456789\"[::-2] | \"97531\" | 字符串、列表、元组 |\n",
    "\n",
    "* **切片** 使用 **索引值** 来限定范围，从一个大的 **字符串** 中 **切出** 小的 **字符串**\n",
    "* **列表** 和 **元组** 都是 **有序** 的集合，都能够 **通过索引值** 获取到对应的数据\n",
    "* **字典** 是一个 **无序** 的集合，是使用 **键值对** 保存数据"
   ],
   "metadata": {}
  },
  {
   "cell_type": "markdown",
   "source": [
    "#### 6.3 运算符\n",
    "\n",
    "| 运算符 | Python 表达式 | 结果 | 描述 | 支持的数据类型 |\n",
    "| :--- | :--- | :--- | :--- | :--- |\n",
    "| + | \\[1, 2\\] + \\[3, 4\\] | \\[1, 2, 3, 4\\] | 合并 | 字符串、列表、元组 |\n",
    "| * | \\[\"Hi!\"\\] * 4 | \\['Hi!', 'Hi!', 'Hi!', 'Hi!'\\] | 重复 | 字符串、列表、元组 |\n",
    "| in | 3 in (1, 2, 3) | True | 元素是否存在 | 字符串、列表、元组、字典 |\n",
    "| not in | 4 not in (1, 2, 3) | True | 元素是否不存在 | 字符串、列表、元组、字典 |\n",
    "| > >= == < <= | (1, 2, 3) < (2, 2, 3) | True | 元素比较 | 字符串、列表、元组 |\n",
    "\n",
    "**注意**\n",
    "\n",
    "* `in` 在对 **字典** 操作时，判断的是 **字典的键**\n",
    "* `in` 和 `not in` 被称为 **成员运算符**\n",
    "* `+` 和列表的 `extend` 方法区别: `extend` 直接修改原列表，而 `+` 生成新的列表"
   ],
   "metadata": {}
  },
  {
   "cell_type": "code",
   "execution_count": null,
   "source": [
    "print([1, 2] * 5)\n",
    "print([1, 2] + [1, 2, 3])"
   ],
   "outputs": [],
   "metadata": {}
  },
  {
   "cell_type": "code",
   "execution_count": null,
   "source": [
    "print([1, 1, 1] < [2, 2, 2])\n",
    "print([2, 1, 1] < [2, 2, 2]) # 先比较第一个元素\n",
    "print([2, 2, 1] < [2, 2, 2])\n",
    "print([3, 1, 1] < [2, 2, 2])\n",
    "\n",
    "print([\"a\", 1, 1] < [\"b\", 2, 2])"
   ],
   "outputs": [],
   "metadata": {}
  },
  {
   "cell_type": "markdown",
   "source": [
    "### 成员运算符\n",
    "\n",
    "成员运算符用于 **测试** 序列中是否包含指定的 **成员**\n",
    "\n",
    "| 运算符 | 描述 | 实例 |\n",
    "| :--- | :--- | :--- |\n",
    "| in | 如果在指定的序列中找到值返回 True，否则返回 False | `3 in (1, 2, 3)` 返回 `True` |\n",
    "| not in | 如果在指定的序列中没有找到值返回 True，否则返回 False | `3 not in (1, 2, 3)` 返回 `False` |\n",
    "\n",
    "注意：在对 **字典** 操作时，判断的是 **字典的键**"
   ],
   "metadata": {}
  },
  {
   "cell_type": "markdown",
   "source": [
    "## 4 完整的 for 循环语法\n",
    "\n",
    "* 在 `Python` 中完整的 `for 循环` 的语法如下：\n",
    "\n",
    "```python\n",
    "for 变量 in 集合:\n",
    "    循环体代码\n",
    "else:\n",
    "    没有通过 break 退出循环, 循环结束后, 会执行的代码\n",
    "```\n",
    "\n",
    "应用场景\n",
    "\n",
    "* 在 **迭代遍历** 嵌套的数据类型时，例如 **一个列表包含了多个字典**\n",
    "* 需求：要判断 某一个字典中 是否存在 指定的 值 \n",
    "    * 如果 **存在**，提示并且退出循环\n",
    "    * 如果 **不存在**，在 **循环整体结束** 后，希望 **得到一个统一的提示**"
   ],
   "metadata": {}
  },
  {
   "cell_type": "markdown",
   "source": [
    "## 7 变量进阶\n",
    "\n",
    "* 变量引用\n",
    "* 可变和不可变类型\n",
    "* 局部变量和全局变量"
   ],
   "metadata": {}
  },
  {
   "cell_type": "code",
   "execution_count": null,
   "source": [
    "# >1 赋值语句是将对变量的引用。本质上变量值不会新生成一份。\n",
    "\n",
    "a = 10\n",
    "b = a\n",
    "print(id(a))\n",
    "print(id(b))"
   ],
   "outputs": [],
   "metadata": {}
  },
  {
   "cell_type": "code",
   "execution_count": null,
   "source": [
    "# 2> 调用函数时，本质上传递的是实参保存数据的“引用”，而不是实参保存的“数据”\n",
    "\n",
    "def test1(a1):\n",
    "    print(id(a1))\n",
    "\n",
    "a = 10\n",
    "print(id(a))\n",
    "test1(a)"
   ],
   "outputs": [],
   "metadata": {}
  },
  {
   "cell_type": "code",
   "execution_count": null,
   "source": [
    "# 3> 如果函数有返回值，但是没有定义变量接收，程序不会报错，但是无法获取返回值\n",
    "# r = test() 本质上还是赋值动作，因此依旧是数据“引用”。即return返回值本质上也是数据的引用，而不是数据的值\n",
    "\n",
    "def test2():\n",
    "    result = \"test_str\"\n",
    "    print(id(result))\n",
    "\n",
    "r = test2()\n",
    "print(id(r))"
   ],
   "outputs": [],
   "metadata": {}
  },
  {
   "cell_type": "markdown",
   "source": [
    "* 可变类型：\n",
    "    * 列表\n",
    "    * 字典\n",
    "    * 集合\n",
    "* 不可变类型：\n",
    "    * 数字类型（int，float，boolean，complex）\n",
    "    * 字符串\n",
    "    * 元组"
   ],
   "metadata": {}
  },
  {
   "cell_type": "code",
   "execution_count": null,
   "source": [
    "# 4> 使用赋值语句修改变量(除int外)，本质上是修改变量的内存地址，而不是修改原内存地址中的值\n",
    "# 若要达到只修改变量值而不变化内存地址的效果，需要调用变量的方法操作\n",
    "a = 100\n",
    "print(id(a))\n",
    "a = 100\n",
    "print(id(a))\n",
    "\n",
    "b = 3+2j\n",
    "print(id(b))\n",
    "b = 3+2j\n",
    "print(id(b))\n",
    "\n",
    "c = (1, 2, 3)\n",
    "print(id(c))\n",
    "c = (1, 2, 3)\n",
    "print(id(c))\n",
    "\n",
    "d = {}\n",
    "print(id(d))\n",
    "d = {}\n",
    "print(id(d))\n",
    "d[\"new\"]=1\n",
    "print(id(d))\n",
    "d.pop(\"new\")\n",
    "print(id(d))\n"
   ],
   "outputs": [],
   "metadata": {}
  },
  {
   "cell_type": "markdown",
   "source": [
    "5> 字典的键必须为不可变类型\n",
    "\n",
    "关于`unhashable type`:\n",
    "\n",
    "* 可哈希类型对象一定是不可变类型对象\n",
    "* 可变类型对象一定是不可哈希类型对象\n",
    "\n",
    "可哈希数据类型：string、tuple、object、frozenset（不可变集合） ==> **同值同址，不同值不同址**\n",
    "\n",
    "不可哈希数据类型：list、dict、set（可变集合）==> **同值不同址，不同值同址**\n",
    "\n",
    "注： 元组中的元素为list，如(1, 2, [1, 2])，那么此元组也是不可哈希的，此元组也不能作为dict的键\n"
   ],
   "metadata": {}
  },
  {
   "cell_type": "markdown",
   "source": [
    "**局部变量和全局变量**\n",
    "\n",
    "* 根据变量定义的位置，其生命周期也不同。\n",
    "* 在函数内部使用变量时，会优先使用局部变量，其次才查找全局变量。\n",
    "* 在函数内部，可以通过引用访问全局变量，但是不能直接通过赋值语句修改变量。如果使用赋值语句，python会自动在函数内部定义一个局部变量。\n",
    "* 要达到在函数内部修改全部变量的目的\n",
    "    * 可使用`global var_name`告诉python后面的变量是全局变量\n",
    "    * 调用变量的方法进行修改"
   ],
   "metadata": {}
  },
  {
   "cell_type": "markdown",
   "source": [
    "程序的结构\n",
    "\n",
    "```\n",
    "shebang\n",
    "import\n",
    "全局变量\n",
    "函数定义\n",
    "执行代码\n",
    "```"
   ],
   "metadata": {}
  }
 ]
}