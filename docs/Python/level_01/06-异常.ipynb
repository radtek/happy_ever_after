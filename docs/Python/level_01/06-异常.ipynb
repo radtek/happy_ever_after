{
 "cells": [
  {
   "cell_type": "markdown",
   "source": [
    "# 异常\n",
    "\n",
    "* 概念\n",
    "* 捕获异常\n",
    "* 异常传递\n",
    "* 自定义异常"
   ],
   "metadata": {}
  },
  {
   "cell_type": "markdown",
   "source": [
    "简单的捕获异常语法：\n",
    "\n",
    "```python\n",
    "try:\n",
    "    # 尝试执行的代码\n",
    "    pass\n",
    "except:\n",
    "    # 出现异常的处理\n",
    "    pass\n",
    "```"
   ],
   "metadata": {}
  },
  {
   "cell_type": "markdown",
   "source": [
    "针对错误类型捕获：\n",
    "\n",
    "```python\n",
    "try:\n",
    "    pass\n",
    "except 错误类型1:\n",
    "    pass\n",
    "except 错误类型2:\n",
    "    pass\n",
    "except Exception as result:\n",
    "    print(\"未知错误：%s\" % result)\n",
    "```\n",
    "\n",
    "* ZeroDivisionError\n",
    "* ValueError"
   ],
   "metadata": {}
  },
  {
   "cell_type": "markdown",
   "source": [
    "完整语法：\n",
    "\n",
    "```python\n",
    "try:\n",
    "    pass\n",
    "except 错误类型1:\n",
    "    pass\n",
    "except 错误类型2:\n",
    "    pass\n",
    "except Exception as result:\n",
    "    print(\"未知错误：%s\" % result)\n",
    "else:\n",
    "    # 没有异常才会执行的代码\n",
    "    pass\n",
    "finally:\n",
    "    # 无论是否异常，都会执行的代码\n",
    "    pass\n",
    "```"
   ],
   "metadata": {}
  },
  {
   "cell_type": "markdown",
   "source": [
    "* 异常传递\n",
    "    * 一层一层向后传递\n",
    "    * 利用异常传递性，可以只在主程序针对异常进行捕获"
   ],
   "metadata": {}
  },
  {
   "cell_type": "code",
   "execution_count": null,
   "source": [
    "def A(int_num):\n",
    "    print(int(int_num))\n",
    "\n",
    "def B():\n",
    "    A('11.1')\n",
    "\n",
    "B()"
   ],
   "outputs": [],
   "metadata": {}
  },
  {
   "cell_type": "markdown",
   "source": [
    "* 自定义异常\n",
    "    * 创建一个Exception对象\n",
    "    * 使用raise关键字抛出异常对象\n",
    "\n",
    "```\n",
    "exp = Exception(\"长度不够\")\n",
    "raise exp\n",
    "```"
   ],
   "metadata": {}
  }
 ],
 "metadata": {
  "orig_nbformat": 4,
  "language_info": {
   "name": "python"
  }
 },
 "nbformat": 4,
 "nbformat_minor": 2
}